{
 "cells": [
  {
   "cell_type": "code",
   "execution_count": 1,
   "metadata": {},
   "outputs": [],
   "source": [
    "# !git clone --recursive https://github.com/coreylammie/MemTorch\n",
    "# %cd MemTorch\n",
    "# !pip install ."
   ]
  },
  {
   "cell_type": "code",
   "execution_count": 1,
   "metadata": {},
   "outputs": [],
   "source": [
    "import torch\n",
    "from torch.autograd import Variable\n",
    "import memtorch\n",
    "import torch.nn as nn\n",
    "import torch.nn.functional as F\n",
    "import torch.optim as optim\n",
    "from memtorch.utils import LoadMNIST\n",
    "import numpy as np\n",
    "import matplotlib.pyplot as plt\n",
    "import torchvision\n"
   ]
  },
  {
   "cell_type": "code",
   "execution_count": 4,
   "metadata": {},
   "outputs": [],
   "source": [
    "class Net(nn.Module):\n",
    "    def __init__(self):\n",
    "        super(Net, self).__init__()\n",
    "        self.fc1 = nn.Linear(28*28, 10)\n",
    "\n",
    "    def forward(self, x):\n",
    "        x = x.view(-1, 28*28)\n",
    "        x = self.fc1(x)\n",
    "        return x\n",
    "\n",
    "def test(model, test_loader):\n",
    "    correct = 0\n",
    "    for batch_idx, (data, target) in enumerate(test_loader):        \n",
    "        output = model(data.to(device))\n",
    "        pred = output.data.max(1)[1]\n",
    "        correct += pred.eq(target.to(device).data.view_as(pred)).cpu().sum()\n",
    "\n",
    "    return 100. * float(correct) / float(len(test_loader.dataset))"
   ]
  },
  {
   "cell_type": "code",
   "execution_count": 8,
   "metadata": {},
   "outputs": [
    {
     "name": "stdout",
     "output_type": "stream",
     "text": [
      "Epoch: [1]\t\t92.08%\n"
     ]
    }
   ],
   "source": [
    "device = torch.device('cpu' if 'cpu' in memtorch.__version__ else 'cuda')\n",
    "epochs = 1\n",
    "learning_rate = 1e-1\n",
    "step_lr = 5\n",
    "batch_size = 256\n",
    "train_loader, validation_loader, test_loader = LoadMNIST(batch_size=batch_size, validation=False)\n",
    "model = Net().to(device)\n",
    "criterion = nn.CrossEntropyLoss()\n",
    "optimizer = optim.Adam(model.parameters(), lr=learning_rate)\n",
    "best_accuracy = 0\n",
    "\n",
    "for epoch in range(0, epochs):\n",
    "    print('Epoch: [%d]\\t\\t' % (epoch + 1), end='')\n",
    "    if epoch % step_lr == 0:\n",
    "        learning_rate = learning_rate * 0.1\n",
    "        for param_group in optimizer.param_groups:\n",
    "            param_group['lr'] = learning_rate\n",
    "\n",
    "    model.train()\n",
    "    for batch_idx, (data, target) in enumerate(train_loader):\n",
    "        optimizer.zero_grad()\n",
    "        output = model(data.to(device))\n",
    "        loss = criterion(output, target.to(device))\n",
    "        loss.backward()\n",
    "        optimizer.step()\n",
    "\n",
    "    accuracy = test(model, test_loader)\n",
    "    print('%2.2f%%' % accuracy)\n",
    "    if accuracy > best_accuracy:\n",
    "        torch.save(model.state_dict(), 'trained_model.pt')\n",
    "        best_accuracy = accuracy"
   ]
  },
  {
   "cell_type": "code",
   "execution_count": 5,
   "metadata": {},
   "outputs": [],
   "source": [
    "def find_nearest_value(weights, stable_weights):\n",
    "    nearest_values = np.zeros_like(weights)\n",
    "    for i in range(weights.shape[0]):\n",
    "        for j in range(weights.shape[1]):\n",
    "            min_diff = np.inf\n",
    "            for k in range(stable_weights.shape[0]):\n",
    "                diff = abs(weights[i, j] - stable_weights[k])\n",
    "                if diff < min_diff:\n",
    "                    min_diff = diff\n",
    "                    nearest_val = stable_weights[k]\n",
    "            nearest_values[i, j] = nearest_val\n",
    "    return nearest_values"
   ]
  },
  {
   "cell_type": "code",
   "execution_count": null,
   "metadata": {},
   "outputs": [],
   "source": [
    "fc1_weights = model.fc1.weight.data.cpu().numpy()\n",
    "\n",
    "w_min_fc1, w_max_fc1 = fc1_weights.min(), fc1_weights.max()\n",
    "\n",
    "n_states = np.arange(2, 18, 2)\n",
    "\n",
    "fc1_nearest_values = find_nearest_value(fc1_weights, stable_weights_d1)\n",
    "model.fc1.weight.data = torch.Tensor(fc1_nearest_values).to(device)\n",
    "\n",
    "accuracy = test(model, test_loader)\n",
    "print('Accuracy: %2.2f%%' % accuracy)\n",
    "\n"
   ]
  },
  {
   "cell_type": "code",
   "execution_count": null,
   "metadata": {},
   "outputs": [],
   "source": [
    "device = torch.device('cpu' if 'cpu' in memtorch.__version__ else 'cuda')\n",
    "epochs = 1\n",
    "learning_rate = 1e-1\n",
    "step_lr = 5\n",
    "batch_size = 256\n",
    "train_loader, validation_loader, test_loader = LoadMNIST(batch_size=batch_size, validation=False)\n",
    "model = Net().to(device)\n",
    "criterion = nn.CrossEntropyLoss()\n",
    "optimizer = optim.Adam(model.parameters(), lr=learning_rate)\n",
    "best_accuracy = 0\n",
    "\n",
    "for epoch in range(0, epochs):\n",
    "    print('Epoch: [%d]\\t\\t' % (epoch + 1), end='')\n",
    "    if epoch % step_lr == 0:\n",
    "        learning_rate = learning_rate * 0.1\n",
    "        for param_group in optimizer.param_groups:\n",
    "            param_group['lr'] = learning_rate\n",
    "\n",
    "    model.train()\n",
    "    for batch_idx, (data, target) in enumerate(train_loader):\n",
    "        optimizer.zero_grad()\n",
    "        output = model(data.to(device))\n",
    "        loss = criterion(output, target.to(device))\n",
    "        loss.backward()\n",
    "        optimizer.step()\n",
    "\n",
    "    accuracy = test(model, test_loader)\n",
    "    print('%2.2f%%' % accuracy)\n",
    "    if accuracy > best_accuracy:\n",
    "        torch.save(model.state_dict(), 'trained_model.pt')\n",
    "        best_accuracy = accuracy"
   ]
  },
  {
   "cell_type": "code",
   "execution_count": null,
   "metadata": {},
   "outputs": [],
   "source": [
    "fc1_weights = model.fc1.weight.data.cpu().numpy()\n",
    "\n",
    "w_min_fc1, w_max_fc1 = fc1_weights.min(), fc1_weights.max()\n",
    "\n",
    "n_states = np.arange(2, 18, 2)\n",
    "\n",
    "fc1_nearest_values = find_nearest_value(fc1_weights, stable_weights_d2)\n",
    "model.fc1.weight.data = torch.Tensor(fc1_nearest_values).to(device)\n",
    "\n",
    "accuracy = test(model, test_loader)\n",
    "print('Accuracy: %2.2f%%' % accuracy)\n",
    "\n"
   ]
  },
  {
   "cell_type": "code",
   "execution_count": 7,
   "metadata": {},
   "outputs": [
    {
     "name": "stdout",
     "output_type": "stream",
     "text": [
      "n_states: 16\n",
      "Accuracy: 91.87%\n",
      "n_states: 14\n",
      "Accuracy: 91.73%\n",
      "n_states: 12\n",
      "Accuracy: 91.73%\n",
      "n_states: 10\n",
      "Accuracy: 91.04%\n",
      "n_states: 8\n",
      "Accuracy: 88.08%\n",
      "n_states: 6\n",
      "Accuracy: 83.93%\n",
      "n_states: 4\n",
      "Accuracy: 75.14%\n",
      "n_states: 2\n",
      "Accuracy: 73.42%\n"
     ]
    },
    {
     "data": {
      "image/png": "[encoded data removed]",
      "text/plain": [
       "<Figure size 432x288 with 1 Axes>"
      ]
     },
     "metadata": {
      "needs_background": "light"
     },
     "output_type": "display_data"
    }
   ],
   "source": [
    "# fc1_weights = model.fc1.weight.data.cpu().numpy()\n",
    "\n",
    "# w_min_fc1, w_max_fc1 = fc1_weights.min(), fc1_weights.max()\n",
    "\n",
    "# n_states = np.arange(2, 18, 2)\n",
    "# n_states = n_states[::-1]\n",
    "\n",
    "# accuracies = []\n",
    "# for n in n_states:\n",
    "#     print('n_states: %d' % n)\n",
    "#     fc1_stable_weights = np.linspace(w_min_fc1, w_max_fc1, n)\n",
    "#     fc1_nearest_values = find_nearest_value(fc1_weights, fc1_stable_weights)\n",
    "#     model.fc1.weight.data = torch.Tensor(fc1_nearest_values).to(device)\n",
    "\n",
    "#     accuracy = test(model, test_loader)\n",
    "#     accuracies.append(accuracy)\n",
    "#     print('Accuracy: %2.2f%%' % accuracy)\n",
    "\n",
    "# plt.plot(n_states, accuracies)\n",
    "# plt.xlabel('Number of states')\n",
    "# plt.ylabel('Accuracy')\n",
    "# plt.savefig('accuracy_vs_n_states.png')"
   ]
  },
  {
   "cell_type": "code",
   "execution_count": null,
   "metadata": {},
   "outputs": [],
   "source": []
  }
 ],
 "metadata": {
  "kernelspec": {
   "display_name": "base",
   "language": "python",
   "name": "python3"
  },
  "language_info": {
   "codemirror_mode": {
    "name": "ipython",
    "version": 3
   },
   "file_extension": ".py",
   "mimetype": "text/x-python",
   "name": "python",
   "nbconvert_exporter": "python",
   "pygments_lexer": "ipython3",
   "version": "3.9.12"
  },
  "orig_nbformat": 4
 },
 "nbformat": 4,
 "nbformat_minor": 2
}
